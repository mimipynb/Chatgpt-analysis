{
 "cells": [
  {
   "cell_type": "markdown",
   "metadata": {},
   "source": [
    "Update: 01.02.2025 - Unsure of what is contained in this notebook or my objective here. Although I think I was trying to find some features within the (single) head of GPT2 to integrate with other transformers. Think I was trying to scale the embeddings using softmax-like or trig (1-arcos(x)) equation but unclear. \n",
    "\n",
    "This notebook is here to serve as a memorial to my poor compute struggling with my terrible setup."
   ]
  },
  {
   "cell_type": "markdown",
   "metadata": {},
   "source": [
    "## 24.05.2024"
   ]
  },
  {
   "cell_type": "code",
   "execution_count": null,
   "metadata": {},
   "outputs": [],
   "source": [
    "import tqdm as notebook_tqdm"
   ]
  },
  {
   "cell_type": "code",
   "execution_count": 1,
   "metadata": {},
   "outputs": [
    {
     "name": "stderr",
     "output_type": "stream",
     "text": [
      "/Users/mimiphan/Library/Mobile Documents/com~apple~CloudDocs/Documents/MBA Documents/MyPlayground/.conda/lib/python3.12/site-packages/tqdm/auto.py:21: TqdmWarning: IProgress not found. Please update jupyter and ipywidgets. See https://ipywidgets.readthedocs.io/en/stable/user_install.html\n",
      "  from .autonotebook import tqdm as notebook_tqdm\n"
     ]
    }
   ],
   "source": [
    "from transformers import GPT2Tokenizer, GPT2LMHeadModel"
   ]
  },
  {
   "cell_type": "code",
   "execution_count": 73,
   "metadata": {},
   "outputs": [],
   "source": [
    "\n",
    "tokenizer = GPT2Tokenizer.from_pretrained(\"gpt2\")\n",
    "model = GPT2LMHeadModel.from_pretrained(\"gpt2\")"
   ]
  },
  {
   "cell_type": "code",
   "execution_count": 77,
   "metadata": {},
   "outputs": [
    {
     "data": {
      "text/plain": [
       "GenerationConfig {\n",
       "  \"bos_token_id\": 50256,\n",
       "  \"eos_token_id\": 50256\n",
       "}"
      ]
     },
     "execution_count": 77,
     "metadata": {},
     "output_type": "execute_result"
    }
   ],
   "source": [
    "output_params = {\n",
    "    'output_scores': True,\n",
    "    'output_logits': True,\n",
    "    'output_attentions': True,\n",
    "    'output_hidden_states': True,\n",
    "    'return_dict_in_generate': True,\n",
    "    'num_return_sequences': 1\n",
    "}\n",
    "model.generation_config\n"
   ]
  },
  {
   "cell_type": "code",
   "execution_count": 78,
   "metadata": {},
   "outputs": [
    {
     "data": {
      "text/plain": [
       "{}"
      ]
     },
     "execution_count": 78,
     "metadata": {},
     "output_type": "execute_result"
    }
   ],
   "source": [
    "model.generation_config.update(**output_params)"
   ]
  },
  {
   "cell_type": "code",
   "execution_count": 79,
   "metadata": {},
   "outputs": [
    {
     "data": {
      "text/plain": [
       "GenerationConfig {\n",
       "  \"bos_token_id\": 50256,\n",
       "  \"eos_token_id\": 50256,\n",
       "  \"output_attentions\": true,\n",
       "  \"output_hidden_states\": true,\n",
       "  \"output_logits\": true,\n",
       "  \"output_scores\": true,\n",
       "  \"return_dict_in_generate\": true\n",
       "}"
      ]
     },
     "execution_count": 79,
     "metadata": {},
     "output_type": "execute_result"
    }
   ],
   "source": [
    "model.generation_config"
   ]
  },
  {
   "cell_type": "code",
   "execution_count": 80,
   "metadata": {},
   "outputs": [
    {
     "name": "stderr",
     "output_type": "stream",
     "text": [
      "Setting `pad_token_id` to `eos_token_id`:50256 for open-end generation.\n",
      "/Users/mimiphan/Library/Mobile Documents/com~apple~CloudDocs/Documents/MBA Documents/MyPlayground/.conda/lib/python3.12/site-packages/transformers/generation/utils.py:1168: UserWarning: Using the model-agnostic default `max_length` (=20) to control the generation length. We recommend setting `max_new_tokens` to control the maximum length of the generation.\n",
      "  warnings.warn(\n"
     ]
    }
   ],
   "source": [
    "inputs = tokenizer(\"Hello, my dog is cute and \", return_tensors=\"pt\")\n",
    "generation = model.generate(**inputs)"
   ]
  },
  {
   "cell_type": "code",
   "execution_count": 85,
   "metadata": {},
   "outputs": [
    {
     "data": {
      "text/plain": [
       "dict_keys(['sequences', 'scores', 'logits', 'attentions', 'hidden_states', 'past_key_values'])"
      ]
     },
     "execution_count": 85,
     "metadata": {},
     "output_type": "execute_result"
    }
   ],
   "source": [
    "generation.__dict__.keys()"
   ]
  },
  {
   "cell_type": "code",
   "execution_count": 88,
   "metadata": {},
   "outputs": [
    {
     "data": {
      "text/plain": [
       "12"
      ]
     },
     "execution_count": 88,
     "metadata": {},
     "output_type": "execute_result"
    }
   ],
   "source": [
    "len(generation[\"hidden_states\"])"
   ]
  },
  {
   "cell_type": "code",
   "execution_count": 91,
   "metadata": {},
   "outputs": [],
   "source": [
    "last_layer = torch.cat(generation[\"hidden_states\"][-1])"
   ]
  },
  {
   "cell_type": "code",
   "execution_count": 92,
   "metadata": {},
   "outputs": [
    {
     "data": {
      "text/plain": [
       "torch.Size([13, 1, 768])"
      ]
     },
     "execution_count": 92,
     "metadata": {},
     "output_type": "execute_result"
    }
   ],
   "source": [
    "last_layer.shape"
   ]
  },
  {
   "cell_type": "code",
   "execution_count": 65,
   "metadata": {},
   "outputs": [
    {
     "name": "stdout",
     "output_type": "stream",
     "text": [
      "\u001b[0;31mInit signature:\u001b[0m \u001b[0mGenerationConfig\u001b[0m\u001b[0;34m(\u001b[0m\u001b[0;34m**\u001b[0m\u001b[0mkwargs\u001b[0m\u001b[0;34m)\u001b[0m\u001b[0;34m\u001b[0m\u001b[0;34m\u001b[0m\u001b[0m\n",
      "\u001b[0;31mDocstring:\u001b[0m     \n",
      "Class that holds a configuration for a generation task. A `generate` call supports the following generation methods\n",
      "for text-decoder, text-to-text, speech-to-text, and vision-to-text models:\n",
      "\n",
      "    - *greedy decoding* if `num_beams=1` and `do_sample=False`\n",
      "    - *contrastive search* if `penalty_alpha>0.` and `top_k>1`\n",
      "    - *multinomial sampling* if `num_beams=1` and `do_sample=True`\n",
      "    - *beam-search decoding* if `num_beams>1` and `do_sample=False`\n",
      "    - *beam-search multinomial sampling* if `num_beams>1` and `do_sample=True`\n",
      "    - *diverse beam-search decoding* if `num_beams>1` and `num_beam_groups>1`\n",
      "    - *constrained beam-search decoding* if `constraints!=None` or `force_words_ids!=None`\n",
      "    - *assisted decoding* if `assistant_model` or `prompt_lookup_num_tokens` is passed to `.generate()`\n",
      "\n",
      "To learn more about decoding strategies refer to the [text generation strategies guide](../generation_strategies).\n",
      "\n",
      "<Tip>\n",
      "\n",
      "A large number of these flags control the logits or the stopping criteria of the generation. Make sure you check\n",
      "the [generate-related classes](https://huggingface.co/docs/transformers/internal/generation_utils) for a full\n",
      "description of the possible manipulations, as well as examples of their usage.\n",
      "\n",
      "</Tip>\n",
      "\n",
      "Arg:\n",
      "    > Parameters that control the length of the output\n",
      "\n",
      "    max_length (`int`, *optional*, defaults to 20):\n",
      "        The maximum length the generated tokens can have. Corresponds to the length of the input prompt +\n",
      "        `max_new_tokens`. Its effect is overridden by `max_new_tokens`, if also set.\n",
      "    max_new_tokens (`int`, *optional*):\n",
      "        The maximum numbers of tokens to generate, ignoring the number of tokens in the prompt.\n",
      "    min_length (`int`, *optional*, defaults to 0):\n",
      "        The minimum length of the sequence to be generated. Corresponds to the length of the input prompt +\n",
      "        `min_new_tokens`. Its effect is overridden by `min_new_tokens`, if also set.\n",
      "    min_new_tokens (`int`, *optional*):\n",
      "        The minimum numbers of tokens to generate, ignoring the number of tokens in the prompt.\n",
      "    early_stopping (`bool` or `str`, *optional*, defaults to `False`):\n",
      "        Controls the stopping condition for beam-based methods, like beam-search. It accepts the following values:\n",
      "        `True`, where the generation stops as soon as there are `num_beams` complete candidates; `False`, where an\n",
      "        heuristic is applied and the generation stops when is it very unlikely to find better candidates;\n",
      "        `\"never\"`, where the beam search procedure only stops when there cannot be better candidates (canonical\n",
      "        beam search algorithm).\n",
      "    max_time(`float`, *optional*):\n",
      "        The maximum amount of time you allow the computation to run for in seconds. generation will still finish\n",
      "        the current pass after allocated time has been passed.\n",
      "    stop_strings(`str or List[str]`, *optional*):\n",
      "        A string or a list of strings that should terminate generation if the model outputs them.\n",
      "\n",
      "    > Parameters that control the generation strategy used\n",
      "\n",
      "    do_sample (`bool`, *optional*, defaults to `False`):\n",
      "        Whether or not to use sampling ; use greedy decoding otherwise.\n",
      "    num_beams (`int`, *optional*, defaults to 1):\n",
      "        Number of beams for beam search. 1 means no beam search.\n",
      "    num_beam_groups (`int`, *optional*, defaults to 1):\n",
      "        Number of groups to divide `num_beams` into in order to ensure diversity among different groups of beams.\n",
      "        [this paper](https://arxiv.org/pdf/1610.02424.pdf) for more details.\n",
      "    penalty_alpha (`float`, *optional*):\n",
      "        The values balance the model confidence and the degeneration penalty in contrastive search decoding.\n",
      "    use_cache (`bool`, *optional*, defaults to `True`):\n",
      "        Whether or not the model should use the past last key/values attentions (if applicable to the model) to\n",
      "        speed up decoding.\n",
      "\n",
      "    > Parameters for manipulation of the model output logits\n",
      "\n",
      "    temperature (`float`, *optional*, defaults to 1.0):\n",
      "        The value used to modulate the next token probabilities.\n",
      "    top_k (`int`, *optional*, defaults to 50):\n",
      "        The number of highest probability vocabulary tokens to keep for top-k-filtering.\n",
      "    top_p (`float`, *optional*, defaults to 1.0):\n",
      "        If set to float < 1, only the smallest set of most probable tokens with probabilities that add up to\n",
      "        `top_p` or higher are kept for generation.\n",
      "    min_p (`float`, *optional*):\n",
      "        Minimum token probability, which will be scaled by the probability of the most likely token. It must be a\n",
      "        value between 0 and 1. Typical values are in the 0.01-0.2 range, comparably selective as setting `top_p` in\n",
      "        the 0.99-0.8 range (use the opposite of normal `top_p` values).\n",
      "    typical_p (`float`, *optional*, defaults to 1.0):\n",
      "        Local typicality measures how similar the conditional probability of predicting a target token next is to\n",
      "        the expected conditional probability of predicting a random token next, given the partial text already\n",
      "        generated. If set to float < 1, the smallest set of the most locally typical tokens with probabilities that\n",
      "        add up to `typical_p` or higher are kept for generation. See [this\n",
      "        paper](https://arxiv.org/pdf/2202.00666.pdf) for more details.\n",
      "    epsilon_cutoff (`float`, *optional*, defaults to 0.0):\n",
      "        If set to float strictly between 0 and 1, only tokens with a conditional probability greater than\n",
      "        `epsilon_cutoff` will be sampled. In the paper, suggested values range from 3e-4 to 9e-4, depending on the\n",
      "        size of the model. See [Truncation Sampling as Language Model\n",
      "        Desmoothing](https://arxiv.org/abs/2210.15191) for more details.\n",
      "    eta_cutoff (`float`, *optional*, defaults to 0.0):\n",
      "        Eta sampling is a hybrid of locally typical sampling and epsilon sampling. If set to float strictly between\n",
      "        0 and 1, a token is only considered if it is greater than either `eta_cutoff` or `sqrt(eta_cutoff) *\n",
      "        exp(-entropy(softmax(next_token_logits)))`. The latter term is intuitively the expected next token\n",
      "        probability, scaled by `sqrt(eta_cutoff)`. In the paper, suggested values range from 3e-4 to 2e-3,\n",
      "        depending on the size of the model. See [Truncation Sampling as Language Model\n",
      "        Desmoothing](https://arxiv.org/abs/2210.15191) for more details.\n",
      "    diversity_penalty (`float`, *optional*, defaults to 0.0):\n",
      "        This value is subtracted from a beam's score if it generates a token same as any beam from other group at a\n",
      "        particular time. Note that `diversity_penalty` is only effective if `group beam search` is enabled.\n",
      "    repetition_penalty (`float`, *optional*, defaults to 1.0):\n",
      "        The parameter for repetition penalty. 1.0 means no penalty. See [this\n",
      "        paper](https://arxiv.org/pdf/1909.05858.pdf) for more details.\n",
      "    encoder_repetition_penalty (`float`, *optional*, defaults to 1.0):\n",
      "        The paramater for encoder_repetition_penalty. An exponential penalty on sequences that are not in the\n",
      "        original input. 1.0 means no penalty.\n",
      "    length_penalty (`float`, *optional*, defaults to 1.0):\n",
      "        Exponential penalty to the length that is used with beam-based generation. It is applied as an exponent to\n",
      "        the sequence length, which in turn is used to divide the score of the sequence. Since the score is the log\n",
      "        likelihood of the sequence (i.e. negative), `length_penalty` > 0.0 promotes longer sequences, while\n",
      "        `length_penalty` < 0.0 encourages shorter sequences.\n",
      "    no_repeat_ngram_size (`int`, *optional*, defaults to 0):\n",
      "        If set to int > 0, all ngrams of that size can only occur once.\n",
      "    bad_words_ids(`List[List[int]]`, *optional*):\n",
      "        List of list of token ids that are not allowed to be generated. Check\n",
      "        [`~generation.NoBadWordsLogitsProcessor`] for further documentation and examples.\n",
      "    force_words_ids(`List[List[int]]` or `List[List[List[int]]]`, *optional*):\n",
      "        List of token ids that must be generated. If given a `List[List[int]]`, this is treated as a simple list of\n",
      "        words that must be included, the opposite to `bad_words_ids`. If given `List[List[List[int]]]`, this\n",
      "        triggers a [disjunctive constraint](https://github.com/huggingface/transformers/issues/14081), where one\n",
      "        can allow different forms of each word.\n",
      "    renormalize_logits (`bool`, *optional*, defaults to `False`):\n",
      "        Whether to renormalize the logits after applying all the logits processors or warpers (including the custom\n",
      "        ones). It's highly recommended to set this flag to `True` as the search algorithms suppose the score logits\n",
      "        are normalized but some logit processors or warpers break the normalization.\n",
      "    constraints (`List[Constraint]`, *optional*):\n",
      "        Custom constraints that can be added to the generation to ensure that the output will contain the use of\n",
      "        certain tokens as defined by `Constraint` objects, in the most sensible way possible.\n",
      "    forced_bos_token_id (`int`, *optional*, defaults to `model.config.forced_bos_token_id`):\n",
      "        The id of the token to force as the first generated token after the `decoder_start_token_id`. Useful for\n",
      "        multilingual models like [mBART](../model_doc/mbart) where the first generated token needs to be the target\n",
      "        language token.\n",
      "    forced_eos_token_id (`Union[int, List[int]]`, *optional*, defaults to `model.config.forced_eos_token_id`):\n",
      "        The id of the token to force as the last generated token when `max_length` is reached. Optionally, use a\n",
      "        list to set multiple *end-of-sequence* tokens.\n",
      "    remove_invalid_values (`bool`, *optional*, defaults to `model.config.remove_invalid_values`):\n",
      "        Whether to remove possible *nan* and *inf* outputs of the model to prevent the generation method to crash.\n",
      "        Note that using `remove_invalid_values` can slow down generation.\n",
      "    exponential_decay_length_penalty (`tuple(int, float)`, *optional*):\n",
      "        This Tuple adds an exponentially increasing length penalty, after a certain amount of tokens have been\n",
      "        generated. The tuple shall consist of: `(start_index, decay_factor)` where `start_index` indicates where\n",
      "        penalty starts and `decay_factor` represents the factor of exponential decay\n",
      "    suppress_tokens  (`List[int]`, *optional*):\n",
      "        A list of tokens that will be suppressed at generation. The `SupressTokens` logit processor will set their\n",
      "        log probs to `-inf` so that they are not sampled.\n",
      "    begin_suppress_tokens  (`List[int]`, *optional*):\n",
      "        A list of tokens that will be suppressed at the beginning of the generation. The `SupressBeginTokens` logit\n",
      "        processor will set their log probs to `-inf` so that they are not sampled.\n",
      "    forced_decoder_ids (`List[List[int]]`, *optional*):\n",
      "        A list of pairs of integers which indicates a mapping from generation indices to token indices that will be\n",
      "        forced before sampling. For example, `[[1, 123]]` means the second generated token will always be a token\n",
      "        of index 123.\n",
      "    sequence_bias (`Dict[Tuple[int], float]`, *optional*)):\n",
      "        Dictionary that maps a sequence of tokens to its bias term. Positive biases increase the odds of the\n",
      "        sequence being selected, while negative biases do the opposite. Check\n",
      "        [`~generation.SequenceBiasLogitsProcessor`] for further documentation and examples.\n",
      "    guidance_scale (`float`, *optional*):\n",
      "        The guidance scale for classifier free guidance (CFG). CFG is enabled by setting `guidance_scale > 1`.\n",
      "        Higher guidance scale encourages the model to generate samples that are more closely linked to the input\n",
      "        prompt, usually at the expense of poorer quality.\n",
      "    low_memory (`bool`, *optional*):\n",
      "        Switch to sequential beam search and sequential topk for contrastive search to reduce peak memory.\n",
      "        Used with beam search and contrastive search.\n",
      "    watermarking_config (Union[`WatermarkingConfig`, `dict`], *optional*):\n",
      "        Arguments used to watermark the model outputs by adding a small bias to randomly selected set of \"green\" tokens.\n",
      "        If passed as `Dict`, it will be converted to a `WatermarkingConfig` internally.\n",
      "        See [this paper](https://arxiv.org/abs/2306.04634) for more details. Accepts the following keys:\n",
      "        - greenlist_ratio (`float`):\n",
      "            Used for watermarking. The ratio of \"green\" tokens used to the vocabulary size. Defaults to 0.25.\n",
      "        - bias (`float`):\n",
      "            Used with watermarking. The bias added to the selected \"green\" tokens' logits. Defaults to 2.0.\n",
      "        - hashing_key (`int`):\n",
      "            Hahsing key used for watermarking. Defaults to 15485863 (the millionth prime).\n",
      "        - seeding_scheme (`str`):\n",
      "            Algorithm to use for watermarking. Accepts values:\n",
      "                - \"lefthash\" (default): \"green\" tokens selection depend on the last token (Algorithm 2 from the paper)\n",
      "                - \"selfhash\": \"green\" tokens selection depends on the current token itself (Algorithm 3 from the paper)\n",
      "                    The downside of this scheme is that it considers all possible next tokens and can be slower than \"lefthash\".\n",
      "        - context_width(`int`):\n",
      "            The context length of previous tokens to use in seeding. Higher context length makes watermarking more robust.\n",
      "\n",
      "    > Parameters that define the output variables of generate\n",
      "\n",
      "    num_return_sequences(`int`, *optional*, defaults to 1):\n",
      "        The number of independently computed returned sequences for each element in the batch.\n",
      "    output_attentions (`bool`, *optional*, defaults to `False`):\n",
      "        Whether or not to return the attentions tensors of all attention layers. See `attentions` under returned\n",
      "        tensors for more details.\n",
      "    output_hidden_states (`bool`, *optional*, defaults to `False`):\n",
      "        Whether or not to return the hidden states of all layers. See `hidden_states` under returned tensors for\n",
      "        more details.\n",
      "    output_scores (`bool`, *optional*, defaults to `False`):\n",
      "        Whether or not to return the prediction scores. See `scores` under returned tensors for more details.\n",
      "    output_logits (`bool`, *optional*):\n",
      "        Whether or not to return the unprocessed prediction logit scores. See `logits` under returned tensors for\n",
      "        more details.\n",
      "    return_dict_in_generate (`bool`, *optional*, defaults to `False`):\n",
      "        Whether or not to return a [`~utils.ModelOutput`] instead of a plain tuple.\n",
      "\n",
      "    > Special tokens that can be used at generation time\n",
      "\n",
      "    pad_token_id (`int`, *optional*):\n",
      "        The id of the *padding* token.\n",
      "    bos_token_id (`int`, *optional*):\n",
      "        The id of the *beginning-of-sequence* token.\n",
      "    eos_token_id (`Union[int, List[int]]`, *optional*):\n",
      "        The id of the *end-of-sequence* token. Optionally, use a list to set multiple *end-of-sequence* tokens.\n",
      "\n",
      "    > Generation parameters exclusive to encoder-decoder models\n",
      "\n",
      "    encoder_no_repeat_ngram_size (`int`, *optional*, defaults to 0):\n",
      "        If set to int > 0, all ngrams of that size that occur in the `encoder_input_ids` cannot occur in the\n",
      "        `decoder_input_ids`.\n",
      "    decoder_start_token_id (`Union[int, List[int]]`, *optional*):\n",
      "        If an encoder-decoder model starts decoding with a different token than *bos*, the id of that token or a list of length\n",
      "        `batch_size`. Indicating a list enables different start ids for each element in the batch\n",
      "        (e.g. multilingual models with different target languages in one batch)\n",
      "\n",
      "    > Generation parameters exclusive to assistant generation\n",
      "\n",
      "    num_assistant_tokens (`int`, *optional*, defaults to 5):\n",
      "        Defines the number of _speculative tokens_ that shall be generated by the assistant model before being\n",
      "        checked by the target model at each iteration. Higher values for `num_assistant_tokens` make the generation\n",
      "        more _speculative_ : If the assistant model is performant larger speed-ups can be reached, if the assistant\n",
      "        model requires lots of corrections, lower speed-ups are reached.\n",
      "    num_assistant_tokens_schedule (`str`, *optional*, defaults to `\"heuristic\"`):\n",
      "        Defines the schedule at which max assistant tokens shall be changed during inference.\n",
      "        - `\"heuristic\"`: When all speculative tokens are correct, increase `num_assistant_tokens` by 2 else\n",
      "          reduce by 1. `num_assistant_tokens` value is persistent over multiple generation calls with the same assistant model.\n",
      "        - `\"heuristic_transient\"`: Same as `\"heuristic\"` but `num_assistant_tokens` is reset to its initial value after each generation call.\n",
      "        - `\"constant\"`: `num_assistant_tokens` stays unchanged during generation\n",
      "    prompt_lookup_num_tokens (`int`, *optional*, default to `None`):\n",
      "        The number of tokens to be output as candidate tokens.\n",
      "    max_matching_ngram_size (`int`, *optional*, default to `None`):\n",
      "        The maximum ngram size to be considered for matching in the prompt. Default to 2 if not provided.\n",
      "\n",
      "    > Parameters specific to the caching mechanism:\n",
      "\n",
      "    cache_implementation (`str`, *optional*, default to `None`):\n",
      "        Cache class that should be used when generating.\n",
      "\n",
      "    > Wild card\n",
      "\n",
      "    generation_kwargs:\n",
      "        Additional generation kwargs will be forwarded to the `generate` function of the model. Kwargs that are not\n",
      "        present in `generate`'s signature will be used in the model forward pass.\n",
      "\u001b[0;31mFile:\u001b[0m           ~/Library/Mobile Documents/com~apple~CloudDocs/Documents/MBA Documents/MyPlayground/.conda/lib/python3.12/site-packages/transformers/generation/configuration_utils.py\n",
      "\u001b[0;31mType:\u001b[0m           type\n",
      "\u001b[0;31mSubclasses:\u001b[0m     "
     ]
    }
   ],
   "source": [
    "?GenerationConfig"
   ]
  },
  {
   "cell_type": "code",
   "execution_count": 16,
   "metadata": {},
   "outputs": [
    {
     "data": {
      "text/plain": [
       "dict_keys(['data', '_encodings', '_n_sequences'])"
      ]
     },
     "execution_count": 16,
     "metadata": {},
     "output_type": "execute_result"
    }
   ],
   "source": [
    "inputs.__dict__.keys()"
   ]
  },
  {
   "cell_type": "code",
   "execution_count": 4,
   "metadata": {},
   "outputs": [
    {
     "data": {
      "text/plain": [
       "dict_keys(['sequences', 'scores', 'logits', 'attentions', 'hidden_states', 'past_key_values'])"
      ]
     },
     "execution_count": 4,
     "metadata": {},
     "output_type": "execute_result"
    }
   ],
   "source": [
    "generation_output.__dict__.keys()"
   ]
  },
  {
   "cell_type": "code",
   "execution_count": 11,
   "metadata": {},
   "outputs": [
    {
     "data": {
      "text/plain": [
       "tensor([[15496,    11,   616,  3290,   318, 13779,   290,   220]])"
      ]
     },
     "execution_count": 11,
     "metadata": {},
     "output_type": "execute_result"
    }
   ],
   "source": [
    "inputs.data[\"input_ids\"], generation.sequences"
   ]
  },
  {
   "cell_type": "code",
   "execution_count": 18,
   "metadata": {},
   "outputs": [],
   "source": [
    "import torch"
   ]
  },
  {
   "cell_type": "code",
   "execution_count": 22,
   "metadata": {},
   "outputs": [
    {
     "data": {
      "text/plain": [
       "torch.Size([12, 50257])"
      ]
     },
     "execution_count": 22,
     "metadata": {},
     "output_type": "execute_result"
    }
   ],
   "source": [
    "torch.cat(generation_output.scores).shape"
   ]
  },
  {
   "cell_type": "code",
   "execution_count": 28,
   "metadata": {},
   "outputs": [
    {
     "data": {
      "text/plain": [
       "\"Hello, my dog is cute and icky. I'm not sure if she's a good dog\""
      ]
     },
     "execution_count": 28,
     "metadata": {},
     "output_type": "execute_result"
    }
   ],
   "source": [
    "tokenizer.decode(generation_output.sequences.squeeze(0))"
   ]
  },
  {
   "cell_type": "code",
   "execution_count": 43,
   "metadata": {},
   "outputs": [
    {
     "data": {
      "text/plain": [
       "(12, 2, 1)"
      ]
     },
     "execution_count": 43,
     "metadata": {},
     "output_type": "execute_result"
    }
   ],
   "source": [
    "len(generation_output.past_key_values), len(generation_output.past_key_values[0]), len(generation_output.past_key_values[0][0])"
   ]
  },
  {
   "cell_type": "markdown",
   "metadata": {},
   "source": [
    "## 25.05"
   ]
  },
  {
   "cell_type": "code",
   "execution_count": 34,
   "metadata": {},
   "outputs": [],
   "source": [
    "from transformers import GPT2TokenizerFast, GPT2LMHeadModel\n",
    "import tqdm as notebook_tqdm\n",
    "import torch\n",
    "import numpy as np"
   ]
  },
  {
   "cell_type": "code",
   "execution_count": 119,
   "metadata": {},
   "outputs": [],
   "source": [
    "output_params = {\n",
    "    'output_scores': True,\n",
    "    'output_logits': False,\n",
    "    'output_attentions': False,\n",
    "    'output_hidden_states': False,\n",
    "    'output_past_key_values': False,\n",
    "}\n",
    "\n",
    "off_params = {\n",
    "    \"max_new_tokens\": 75,\n",
    "    \"num_return_sequences\": 1\n",
    "}\n",
    "\n",
    "class KittyHouse:\n",
    "    tokenizer = GPT2TokenizerFast.from_pretrained(\"gpt2\")\n",
    "    tokenizer.pad_token_id = tokenizer.eos_token_id\n",
    "    model = GPT2LMHeadModel.from_pretrained(\"gpt2\")\n",
    "    model.generation_config.update(**output_params, **off_params)\n",
    "    \n",
    "    def __init__(self, user_input):\n",
    "        tokens = KittyHouse.tokenizer(user_input, return_attention_mask=True, return_tensors=\"pt\")\n",
    "        output = KittyHouse.model.generate(**tokens, return_dict_in_generate=True)\n",
    "        \n",
    "        self.ids = tokens.data[\"input_ids\"].squeeze(0) \n",
    "        self.mask = tokens.data[\"attention_mask\"]\n",
    "        # [num_input], [1, num_input]\n",
    "        \n",
    "        self.full_ids = output[\"sequences\"].squeeze(0) # [1, num_input+num_gen]\n",
    "        self.full_text = KittyHouse.tokenizer.decode(self.full_ids, skip_special_tokens=True, clean_up_tokenization_spaces=True)\n",
    "        # [num_input+num_gen], [num_input+num_gen]\n",
    "        \n",
    "        self.pliers_ids = self.full_ids[self.ids.shape[-1]:]\n",
    "        self.pliers_text = KittyHouse.tokenizer.decode(self.pliers_ids, skip_special_tokens=True, clean_up_tokenization_spaces=True)\n",
    "        \n",
    "        self.scores = torch.cat(output[\"scores\"]) # note: only gives for the pliers\n",
    "        self.emit = KittyHouse.model.compute_transition_scores(output[\"sequences\"], output[\"scores\"], normalize_logits=True)\n",
    "        # [16, 50257] (== [max_new_tokens, vocab_size] == [num_gen, vocab_size]), [1, num_gen]\n",
    "        print(self.full_text)"
   ]
  },
  {
   "cell_type": "code",
   "execution_count": 120,
   "metadata": {},
   "outputs": [
    {
     "name": "stderr",
     "output_type": "stream",
     "text": [
      "Setting `pad_token_id` to `eos_token_id`:50256 for open-end generation.\n"
     ]
    },
    {
     "name": "stdout",
     "output_type": "stream",
     "text": [
      "hey how are  you  going to get your hands on this?\n",
      "I'm not sure if you're familiar with the term \"candy\" or \"candy cake\" but I'm sure you've heard of it. It's a type of cake that is made with a mixture of sugar and butter. It's made with a mixture of sugar and butter. It's made with a mixture of sugar and butter. It's made with a mixture of sugar and butter. It's made with a mixture\n",
      "tensor([[-1.5353e+00, -1.1697e+00, -1.5543e+00, -6.6302e-03, -1.7125e+00,\n",
      "         -4.1111e-01, -2.4712e+00, -2.7393e+00, -2.9382e+00, -1.7024e-01,\n",
      "         -2.1970e+00, -2.0660e+00, -1.6528e+00, -2.2301e+00, -1.9165e+00,\n",
      "         -1.6556e+00, -1.1757e+00, -1.6687e+00, -1.4346e+00, -2.0074e+00,\n",
      "         -2.0726e+00, -2.2225e-02, -1.4035e+00, -2.6712e+00, -1.0819e+00,\n",
      "         -4.6384e+00, -3.2495e+00, -2.3237e+00, -1.3640e+00, -1.4885e+00,\n",
      "         -2.1724e+00, -1.7633e-01, -2.9107e+00, -1.4327e+00, -1.0871e+00,\n",
      "         -1.4506e+00, -1.8902e+00, -1.3378e+00, -6.5544e-01, -1.7479e+00,\n",
      "         -7.7603e-01, -8.1372e-01, -1.3713e+00, -8.3338e-01, -2.2981e+00,\n",
      "         -4.4413e-01, -1.0454e+00, -3.2209e+00, -1.3214e-02, -1.6865e+00,\n",
      "         -1.2829e+00, -1.4541e+00, -1.5131e+00, -1.3197e+00, -2.1925e+00,\n",
      "         -2.7191e+00, -2.0103e-02, -1.7072e+00, -7.3939e-01, -2.1709e+00,\n",
      "         -1.0140e+00, -1.4039e+00, -8.0016e-01, -2.1511e+00, -8.5335e-01,\n",
      "         -1.6132e+00, -1.6164e+00, -2.6152e-02, -2.5688e+00, -3.5561e-01,\n",
      "         -9.1221e-01, -9.7687e-01, -1.2222e+00, -4.2539e-01, -7.2127e-01,\n",
      "         -3.4559e-01, -1.3653e+00, -5.1022e-01, -1.0276e-02, -1.1326e+00,\n",
      "         -9.8293e-02, -5.2542e-01, -2.0317e-01, -6.7061e-01, -1.2565e-01,\n",
      "         -1.2076e-01, -1.1885e-01, -3.9662e-01, -1.6649e-01, -2.1801e-03,\n",
      "         -1.1564e-01, -1.3912e-02, -6.8289e-02, -4.1245e-02, -5.6480e-01,\n",
      "         -5.0337e-02, -3.9099e-02, -3.7750e-02, -1.2395e-01, -7.1124e-02]])\n"
     ]
    }
   ],
   "source": [
    "fish = KittyHouse(\"hey how are \")"
   ]
  },
  {
   "cell_type": "code",
   "execution_count": 121,
   "metadata": {},
   "outputs": [
    {
     "data": {
      "text/plain": [
       "dict_keys(['ids', 'mask', 'full_ids', 'full_text', 'pliers_ids', 'pliers_text', 'scores', 'emit'])"
      ]
     },
     "execution_count": 121,
     "metadata": {},
     "output_type": "execute_result"
    }
   ],
   "source": [
    "fish.__dict__.keys()"
   ]
  },
  {
   "cell_type": "code",
   "execution_count": 123,
   "metadata": {},
   "outputs": [
    {
     "data": {
      "text/plain": [
       "torch.Size([1, 100])"
      ]
     },
     "execution_count": 123,
     "metadata": {},
     "output_type": "execute_result"
    }
   ],
   "source": [
    "fish.emit.shape"
   ]
  },
  {
   "cell_type": "code",
   "execution_count": 159,
   "metadata": {},
   "outputs": [
    {
     "data": {
      "text/plain": [
       "tensor([[0.1772, 0.2369, 0.1745, 0.4983, 0.1528, 0.3986, 0.0779, 0.0607, 0.0503,\n",
       "         0.4575, 0.1000, 0.1124, 0.1607, 0.0971, 0.1282, 0.1604, 0.2358, 0.1586,\n",
       "         0.1924, 0.1184, 0.1118, 0.4944, 0.1973, 0.0647, 0.2531, 0.0096, 0.0373,\n",
       "         0.0892, 0.2036, 0.1842, 0.1023, 0.4560, 0.0516, 0.1927, 0.2522, 0.1899,\n",
       "         0.1312, 0.2079, 0.3418, 0.1483, 0.3152, 0.3071, 0.2024, 0.3029, 0.0913,\n",
       "         0.3908, 0.2601, 0.0384, 0.4967, 0.1562, 0.2171, 0.1894, 0.1805, 0.2109,\n",
       "         0.1004, 0.0619, 0.4950, 0.1535, 0.3231, 0.1024, 0.2662, 0.1972, 0.3100,\n",
       "         0.1042, 0.2987, 0.1661, 0.1657, 0.4935, 0.0712, 0.4120, 0.2865, 0.2735,\n",
       "         0.2276, 0.3952, 0.3271, 0.4145, 0.2034, 0.3751, 0.4974, 0.2437, 0.4754,\n",
       "         0.3716, 0.4494, 0.3384, 0.4686, 0.4698, 0.4703, 0.4021, 0.4585, 0.4995,\n",
       "         0.4711, 0.4965, 0.4829, 0.4897, 0.3624, 0.4874, 0.4902, 0.4906, 0.4691,\n",
       "         0.4822]])"
      ]
     },
     "execution_count": 159,
     "metadata": {},
     "output_type": "execute_result"
    }
   ],
   "source": [
    "fish.emit.sigmoid().squeeze(0)"
   ]
  },
  {
   "cell_type": "code",
   "execution_count": 158,
   "metadata": {},
   "outputs": [
    {
     "data": {
      "text/plain": [
       "tensor([[0.7846, 0.6895, 0.7887, 0.0066, 0.8196, 0.3371, 0.9155, 0.9354, 0.9470,\n",
       "         0.1565, 0.8889, 0.8733, 0.8085, 0.8925, 0.8529, 0.8090, 0.6914, 0.8115,\n",
       "         0.7618, 0.8657, 0.8741, 0.0220, 0.7543, 0.9308, 0.6610, 0.9903, 0.9612,\n",
       "         0.9021, 0.7444, 0.7743, 0.8861, 0.1617, 0.9456, 0.7613, 0.6628, 0.7656,\n",
       "         0.8490, 0.7376, 0.4808, 0.8259, 0.5398, 0.5568, 0.7462, 0.5654, 0.8995,\n",
       "         0.3586, 0.6485, 0.9601, 0.0131, 0.8148, 0.7228, 0.7664, 0.7798, 0.7328,\n",
       "         0.8884, 0.9341, 0.0199, 0.8186, 0.5226, 0.8859, 0.6372, 0.7544, 0.5507,\n",
       "         0.8836, 0.5740, 0.8008, 0.8014, 0.0258, 0.9234, 0.2993, 0.5984, 0.6235,\n",
       "         0.7054, 0.3465, 0.5139, 0.2922, 0.7447, 0.3996, 0.0102, 0.6778, 0.0936,\n",
       "         0.4087, 0.1839, 0.4886, 0.1181, 0.1138, 0.1121, 0.3274, 0.1534, 0.0022,\n",
       "         0.1092, 0.0138, 0.0660, 0.0404, 0.4315, 0.0491, 0.0383, 0.0370, 0.1166,\n",
       "         0.0687]])"
      ]
     },
     "execution_count": 158,
     "metadata": {},
     "output_type": "execute_result"
    }
   ],
   "source": [
    "1 - torch.exp(fish.emit)"
   ]
  }
 ],
 "metadata": {
  "kernelspec": {
   "display_name": "Python 3",
   "language": "python",
   "name": "python3"
  },
  "language_info": {
   "codemirror_mode": {
    "name": "ipython",
    "version": 3
   },
   "file_extension": ".py",
   "mimetype": "text/x-python",
   "name": "python",
   "nbconvert_exporter": "python",
   "pygments_lexer": "ipython3",
   "version": "3.1.undefined"
  }
 },
 "nbformat": 4,
 "nbformat_minor": 2
}
