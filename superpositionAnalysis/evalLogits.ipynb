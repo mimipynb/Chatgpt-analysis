{
 "cells": [
  {
   "cell_type": "markdown",
   "metadata": {},
   "source": [
    "#  GPT2 Evaluations  \n",
    "\n",
    "This notebook analyzes residual stream behavior in **GPT-2**, motivated by the analysis implemented on GPT-2 with TransformerLens from [Exploratory Analysis Demo - TransformerLens (Colab)](https://colab.research.google.com/github/neelnanda-io/TransformerLens/blob/main/demos/Exploratory_Analysis_Demo.ipynb#scrollTo=Q-L0x0cIrkXq). As part of my effort to test my understanding of the concepts from [Superposition & SAEs - Arena 3 Chapter 1](https://arena3-chapter1-transformer-interp.streamlit.app/%5B1.3.1%5D_Superposition_&_SAEs), I have used Hugging Face `transformers` library instead of the library used in the mentioned experiments, `transformer_lens`. \n",
    "\n",
    "Below is my implementation and analysis aimed at reinforcing my comprehension of **superposition and sparse autoencoders (SAEs)** in transformers."
   ]
  },
  {
   "cell_type": "markdown",
   "metadata": {},
   "source": [
    "- this is useful in the decision making part"
   ]
  },
  {
   "cell_type": "code",
   "execution_count": 253,
   "metadata": {},
   "outputs": [],
   "source": [
    "import torch\n",
    "from transformers import GPT2Tokenizer, GPT2LMHeadModel\n",
    "import numpy as np\n",
    "import pandas as pd\n",
    "\n",
    "tokenizer = GPT2Tokenizer.from_pretrained('gpt2')\n",
    "model = GPT2LMHeadModel.from_pretrained('gpt2', return_dict=True)\n",
    "model.eval()\n",
    "#inputs = tokenizer(\"Hello, my dog is cute\", return_tensors=\"pt\", add_special_tokens=True)\n",
    "#inputs = tokenizer(\"Oh, I love ice cream so much!\", return_tensors=\"pt\", add_special_tokens=True)\n",
    "inputs = tokenizer(\"I am not sure what you are saying\", return_tensors=\"pt\", add_special_tokens=True)\n",
    "with torch.no_grad():\n",
    "    outputs = model(**inputs, labels=inputs[\"input_ids\"])\n",
    "loss = outputs.loss\n",
    "logits = outputs.logits"
   ]
  },
  {
   "cell_type": "code",
   "execution_count": 21,
   "metadata": {},
   "outputs": [],
   "source": [
    "vocab_ = {idx: i for idx, i in enumerate(tokenizer.get_vocab())}"
   ]
  },
  {
   "cell_type": "code",
   "execution_count": 120,
   "metadata": {},
   "outputs": [],
   "source": [
    "in_ids = inputs.input_ids[0]"
   ]
  },
  {
   "cell_type": "code",
   "execution_count": 164,
   "metadata": {},
   "outputs": [],
   "source": [
    "def decode_text(vocab_dict, logits): \n",
    "    # tried with log_softmax, min, max.. \n",
    "    logs = logits[0].log_softmax(-1)\n",
    "    votes = [np.argmin(i) for i in logs]\n",
    "    print([vocab_dict[i.item()] for i in votes])\n",
    "    print(votes)\n",
    "    return\n",
    "\n",
    "def idx_layers(input_ids, logits):\n",
    "    # output the layers tensors (softmax) for vocab index\n",
    "    logs = logits[0].softmax(-1)\n",
    "    posit = []\n",
    "    for i in input_ids:\n",
    "        temp = {}\n",
    "        temp['input_id'] = i.item()\n",
    "        for idj, j in enumerate(logs):\n",
    "            #posit.append({'input_id': i.item(), f'layer_{idj}': j[i].item()})\n",
    "            temp[f'layer_{idj}'] = j[i].item()\n",
    "        posit.append(temp)\n",
    "    data = pd.DataFrame(posit)\n",
    "\n",
    "    mat = np.eye(len(input_ids), dtype=int)\n",
    "    for idx, row in enumerate(mat):\n",
    "        data[f'pos_{idx}'] = row\n",
    "    return data\n",
    "\n",
    "#decode_text(vocab_, logits)"
   ]
  },
  {
   "cell_type": "markdown",
   "metadata": {},
   "source": [
    "### text 1"
   ]
  },
  {
   "cell_type": "code",
   "execution_count": 167,
   "metadata": {},
   "outputs": [],
   "source": [
    "vals = idx_layers(in_ids, logits)"
   ]
  },
  {
   "cell_type": "code",
   "execution_count": 168,
   "metadata": {},
   "outputs": [
    {
     "data": {
      "text/html": [
       "<div>\n",
       "<style scoped>\n",
       "    .dataframe tbody tr th:only-of-type {\n",
       "        vertical-align: middle;\n",
       "    }\n",
       "\n",
       "    .dataframe tbody tr th {\n",
       "        vertical-align: top;\n",
       "    }\n",
       "\n",
       "    .dataframe thead th {\n",
       "        text-align: right;\n",
       "    }\n",
       "</style>\n",
       "<table border=\"1\" class=\"dataframe\">\n",
       "  <thead>\n",
       "    <tr style=\"text-align: right;\">\n",
       "      <th></th>\n",
       "      <th>input_id</th>\n",
       "      <th>layer_0</th>\n",
       "      <th>layer_1</th>\n",
       "      <th>layer_2</th>\n",
       "      <th>layer_3</th>\n",
       "      <th>layer_4</th>\n",
       "      <th>layer_5</th>\n",
       "      <th>pos_0</th>\n",
       "      <th>pos_1</th>\n",
       "      <th>pos_2</th>\n",
       "      <th>pos_3</th>\n",
       "      <th>pos_4</th>\n",
       "      <th>pos_5</th>\n",
       "    </tr>\n",
       "  </thead>\n",
       "  <tbody>\n",
       "    <tr>\n",
       "      <th>0</th>\n",
       "      <td>15496</td>\n",
       "      <td>0.000045</td>\n",
       "      <td>0.000039</td>\n",
       "      <td>0.000002</td>\n",
       "      <td>7.795149e-07</td>\n",
       "      <td>3.518720e-08</td>\n",
       "      <td>1.209484e-07</td>\n",
       "      <td>1</td>\n",
       "      <td>0</td>\n",
       "      <td>0</td>\n",
       "      <td>0</td>\n",
       "      <td>0</td>\n",
       "      <td>0</td>\n",
       "    </tr>\n",
       "    <tr>\n",
       "      <th>1</th>\n",
       "      <td>11</td>\n",
       "      <td>0.096024</td>\n",
       "      <td>0.000113</td>\n",
       "      <td>0.001364</td>\n",
       "      <td>8.521014e-02</td>\n",
       "      <td>7.885353e-04</td>\n",
       "      <td>1.335170e-01</td>\n",
       "      <td>0</td>\n",
       "      <td>1</td>\n",
       "      <td>0</td>\n",
       "      <td>0</td>\n",
       "      <td>0</td>\n",
       "      <td>0</td>\n",
       "    </tr>\n",
       "    <tr>\n",
       "      <th>2</th>\n",
       "      <td>616</td>\n",
       "      <td>0.000950</td>\n",
       "      <td>0.022450</td>\n",
       "      <td>0.000527</td>\n",
       "      <td>6.723823e-04</td>\n",
       "      <td>5.774269e-03</td>\n",
       "      <td>2.778390e-04</td>\n",
       "      <td>0</td>\n",
       "      <td>0</td>\n",
       "      <td>1</td>\n",
       "      <td>0</td>\n",
       "      <td>0</td>\n",
       "      <td>0</td>\n",
       "    </tr>\n",
       "    <tr>\n",
       "      <th>3</th>\n",
       "      <td>3290</td>\n",
       "      <td>0.000018</td>\n",
       "      <td>0.000035</td>\n",
       "      <td>0.001355</td>\n",
       "      <td>2.823597e-04</td>\n",
       "      <td>2.465781e-04</td>\n",
       "      <td>1.116447e-04</td>\n",
       "      <td>0</td>\n",
       "      <td>0</td>\n",
       "      <td>0</td>\n",
       "      <td>1</td>\n",
       "      <td>0</td>\n",
       "      <td>0</td>\n",
       "    </tr>\n",
       "    <tr>\n",
       "      <th>4</th>\n",
       "      <td>318</td>\n",
       "      <td>0.008551</td>\n",
       "      <td>0.005259</td>\n",
       "      <td>0.000194</td>\n",
       "      <td>1.778956e-01</td>\n",
       "      <td>8.198121e-05</td>\n",
       "      <td>1.858972e-04</td>\n",
       "      <td>0</td>\n",
       "      <td>0</td>\n",
       "      <td>0</td>\n",
       "      <td>0</td>\n",
       "      <td>1</td>\n",
       "      <td>0</td>\n",
       "    </tr>\n",
       "    <tr>\n",
       "      <th>5</th>\n",
       "      <td>13779</td>\n",
       "      <td>0.000007</td>\n",
       "      <td>0.000032</td>\n",
       "      <td>0.000302</td>\n",
       "      <td>2.071713e-05</td>\n",
       "      <td>4.165464e-03</td>\n",
       "      <td>1.076876e-04</td>\n",
       "      <td>0</td>\n",
       "      <td>0</td>\n",
       "      <td>0</td>\n",
       "      <td>0</td>\n",
       "      <td>0</td>\n",
       "      <td>1</td>\n",
       "    </tr>\n",
       "  </tbody>\n",
       "</table>\n",
       "</div>"
      ],
      "text/plain": [
       "   input_id   layer_0   layer_1   layer_2       layer_3       layer_4  \\\n",
       "0     15496  0.000045  0.000039  0.000002  7.795149e-07  3.518720e-08   \n",
       "1        11  0.096024  0.000113  0.001364  8.521014e-02  7.885353e-04   \n",
       "2       616  0.000950  0.022450  0.000527  6.723823e-04  5.774269e-03   \n",
       "3      3290  0.000018  0.000035  0.001355  2.823597e-04  2.465781e-04   \n",
       "4       318  0.008551  0.005259  0.000194  1.778956e-01  8.198121e-05   \n",
       "5     13779  0.000007  0.000032  0.000302  2.071713e-05  4.165464e-03   \n",
       "\n",
       "        layer_5  pos_0  pos_1  pos_2  pos_3  pos_4  pos_5  \n",
       "0  1.209484e-07      1      0      0      0      0      0  \n",
       "1  1.335170e-01      0      1      0      0      0      0  \n",
       "2  2.778390e-04      0      0      1      0      0      0  \n",
       "3  1.116447e-04      0      0      0      1      0      0  \n",
       "4  1.858972e-04      0      0      0      0      1      0  \n",
       "5  1.076876e-04      0      0      0      0      0      1  "
      ]
     },
     "execution_count": 168,
     "metadata": {},
     "output_type": "execute_result"
    }
   ],
   "source": [
    "vals"
   ]
  },
  {
   "cell_type": "code",
   "execution_count": 251,
   "metadata": {},
   "outputs": [
    {
     "name": "stdout",
     "output_type": "stream",
     "text": [
      "2\n",
      "1\n",
      "3\n",
      "4\n",
      "2\n"
     ]
    }
   ],
   "source": [
    "rel = []\n",
    "testing = []\n",
    "for i in range(5):\n",
    "    term = f'pos_{i}'\n",
    "    relt = vals[['layer_0', 'layer_1', 'layer_2', 'layer_3', 'layer_4', 'layer_5', term]].corr()[term].values[:-1]\n",
    "    dove = [1 + i for i in relt] # asserts to one direction\n",
    "    rel.append(dove)\n",
    "    print(np.argmin(dove)) # gets the index of the min correlated \n",
    "    ct = dove - np.min(dove)\n",
    "    testing.append(ct[i]) # normalise / standardise \n"
   ]
  },
  {
   "cell_type": "code",
   "execution_count": 252,
   "metadata": {},
   "outputs": [
    {
     "data": {
      "text/plain": [
       "[0.2894119575631866,\n",
       " 0.0,\n",
       " 0.20755465126025996,\n",
       " 0.02400450020538991,\n",
       " 0.007921430576414146]"
      ]
     },
     "execution_count": 252,
     "metadata": {},
     "output_type": "execute_result"
    }
   ],
   "source": [
    "testing"
   ]
  },
  {
   "cell_type": "code",
   "execution_count": 227,
   "metadata": {},
   "outputs": [
    {
     "data": {
      "text/plain": [
       "layer_2    -0.512407\n",
       "layer_4    -0.362522\n",
       "layer_3    -0.291883\n",
       "layer_1    -0.252291\n",
       "layer_0    -0.222995\n",
       "layer_5    -0.201228\n",
       "pos_2      -0.200000\n",
       "pos_3      -0.200000\n",
       "pos_4      -0.200000\n",
       "pos_5      -0.200000\n",
       "pos_1      -0.200000\n",
       "input_id    0.681041\n",
       "pos_0       1.000000\n",
       "Name: pos_0, dtype: float64"
      ]
     },
     "execution_count": 227,
     "metadata": {},
     "output_type": "execute_result"
    }
   ],
   "source": [
    "vals.corr()['pos_0'].sort_values(ascending=True)"
   ]
  },
  {
   "cell_type": "code",
   "execution_count": 229,
   "metadata": {},
   "outputs": [
    {
     "data": {
      "text/plain": [
       "input_id   -0.383021\n",
       "layer_1    -0.248246\n",
       "layer_4    -0.207403\n",
       "pos_2      -0.200000\n",
       "pos_3      -0.200000\n",
       "pos_4      -0.200000\n",
       "pos_5      -0.200000\n",
       "pos_0      -0.200000\n",
       "layer_3     0.273205\n",
       "layer_2     0.609783\n",
       "layer_0     0.996248\n",
       "layer_5     0.999999\n",
       "pos_1       1.000000\n",
       "Name: pos_1, dtype: float64"
      ]
     },
     "execution_count": 229,
     "metadata": {},
     "output_type": "execute_result"
    }
   ],
   "source": [
    "vals.corr()['pos_1'].sort_values(ascending=True)"
   ]
  },
  {
   "cell_type": "code",
   "execution_count": 230,
   "metadata": {},
   "outputs": [
    {
     "data": {
      "text/plain": [
       "input_id   -0.341448\n",
       "layer_3    -0.287429\n",
       "layer_0    -0.211498\n",
       "pos_0      -0.200000\n",
       "pos_1      -0.200000\n",
       "pos_3      -0.200000\n",
       "pos_4      -0.200000\n",
       "pos_5      -0.200000\n",
       "layer_5    -0.198729\n",
       "layer_2    -0.079875\n",
       "layer_4     0.773420\n",
       "layer_1     0.972652\n",
       "pos_2       1.000000\n",
       "Name: pos_2, dtype: float64"
      ]
     },
     "execution_count": 230,
     "metadata": {},
     "output_type": "execute_result"
    }
   ],
   "source": [
    "vals.corr()['pos_2'].sort_values(ascending=True)"
   ]
  },
  {
   "cell_type": "markdown",
   "metadata": {},
   "source": [
    "### text 2"
   ]
  },
  {
   "cell_type": "code",
   "execution_count": 238,
   "metadata": {},
   "outputs": [
    {
     "data": {
      "text/plain": [
       "torch.Size([9, 50257])"
      ]
     },
     "execution_count": 238,
     "metadata": {},
     "output_type": "execute_result"
    }
   ],
   "source": [
    "outputs.logits[0].shape"
   ]
  },
  {
   "cell_type": "code",
   "execution_count": 236,
   "metadata": {},
   "outputs": [],
   "source": [
    "text2 = idx_layers(inputs.input_ids[0], outputs.logits)"
   ]
  },
  {
   "cell_type": "code",
   "execution_count": 242,
   "metadata": {},
   "outputs": [
    {
     "data": {
      "text/html": [
       "<div>\n",
       "<style scoped>\n",
       "    .dataframe tbody tr th:only-of-type {\n",
       "        vertical-align: middle;\n",
       "    }\n",
       "\n",
       "    .dataframe tbody tr th {\n",
       "        vertical-align: top;\n",
       "    }\n",
       "\n",
       "    .dataframe thead th {\n",
       "        text-align: right;\n",
       "    }\n",
       "</style>\n",
       "<table border=\"1\" class=\"dataframe\">\n",
       "  <thead>\n",
       "    <tr style=\"text-align: right;\">\n",
       "      <th></th>\n",
       "      <th>input_id</th>\n",
       "      <th>layer_0</th>\n",
       "      <th>layer_1</th>\n",
       "      <th>layer_2</th>\n",
       "      <th>layer_3</th>\n",
       "      <th>layer_4</th>\n",
       "      <th>layer_5</th>\n",
       "      <th>layer_6</th>\n",
       "      <th>layer_7</th>\n",
       "      <th>layer_8</th>\n",
       "      <th>pos_0</th>\n",
       "      <th>pos_1</th>\n",
       "      <th>pos_2</th>\n",
       "      <th>pos_3</th>\n",
       "      <th>pos_4</th>\n",
       "      <th>pos_5</th>\n",
       "      <th>pos_6</th>\n",
       "      <th>pos_7</th>\n",
       "      <th>pos_8</th>\n",
       "    </tr>\n",
       "  </thead>\n",
       "  <tbody>\n",
       "    <tr>\n",
       "      <th>0</th>\n",
       "      <td>5812</td>\n",
       "      <td>0.000071</td>\n",
       "      <td>0.000011</td>\n",
       "      <td>3.062762e-09</td>\n",
       "      <td>8.679390e-08</td>\n",
       "      <td>8.759316e-08</td>\n",
       "      <td>2.939493e-07</td>\n",
       "      <td>1.340631e-07</td>\n",
       "      <td>6.194054e-07</td>\n",
       "      <td>0.000020</td>\n",
       "      <td>1</td>\n",
       "      <td>0</td>\n",
       "      <td>0</td>\n",
       "      <td>0</td>\n",
       "      <td>0</td>\n",
       "      <td>0</td>\n",
       "      <td>0</td>\n",
       "      <td>0</td>\n",
       "      <td>0</td>\n",
       "    </tr>\n",
       "    <tr>\n",
       "      <th>1</th>\n",
       "      <td>11</td>\n",
       "      <td>0.074408</td>\n",
       "      <td>0.000060</td>\n",
       "      <td>1.334366e-03</td>\n",
       "      <td>1.132241e-03</td>\n",
       "      <td>7.897571e-03</td>\n",
       "      <td>1.280085e-01</td>\n",
       "      <td>5.436836e-03</td>\n",
       "      <td>1.541862e-01</td>\n",
       "      <td>0.000085</td>\n",
       "      <td>0</td>\n",
       "      <td>1</td>\n",
       "      <td>0</td>\n",
       "      <td>0</td>\n",
       "      <td>0</td>\n",
       "      <td>0</td>\n",
       "      <td>0</td>\n",
       "      <td>0</td>\n",
       "      <td>0</td>\n",
       "    </tr>\n",
       "    <tr>\n",
       "      <th>2</th>\n",
       "      <td>314</td>\n",
       "      <td>0.008329</td>\n",
       "      <td>0.120552</td>\n",
       "      <td>3.716908e-05</td>\n",
       "      <td>5.832549e-04</td>\n",
       "      <td>4.499895e-05</td>\n",
       "      <td>5.181681e-04</td>\n",
       "      <td>5.229215e-02</td>\n",
       "      <td>3.471816e-02</td>\n",
       "      <td>0.299114</td>\n",
       "      <td>0</td>\n",
       "      <td>0</td>\n",
       "      <td>1</td>\n",
       "      <td>0</td>\n",
       "      <td>0</td>\n",
       "      <td>0</td>\n",
       "      <td>0</td>\n",
       "      <td>0</td>\n",
       "      <td>0</td>\n",
       "    </tr>\n",
       "    <tr>\n",
       "      <th>3</th>\n",
       "      <td>1842</td>\n",
       "      <td>0.000199</td>\n",
       "      <td>0.000255</td>\n",
       "      <td>1.323957e-02</td>\n",
       "      <td>8.150191e-04</td>\n",
       "      <td>1.043985e-04</td>\n",
       "      <td>3.853797e-05</td>\n",
       "      <td>3.477961e-04</td>\n",
       "      <td>5.235338e-05</td>\n",
       "      <td>0.000013</td>\n",
       "      <td>0</td>\n",
       "      <td>0</td>\n",
       "      <td>0</td>\n",
       "      <td>1</td>\n",
       "      <td>0</td>\n",
       "      <td>0</td>\n",
       "      <td>0</td>\n",
       "      <td>0</td>\n",
       "      <td>0</td>\n",
       "    </tr>\n",
       "    <tr>\n",
       "      <th>4</th>\n",
       "      <td>4771</td>\n",
       "      <td>0.000022</td>\n",
       "      <td>0.000019</td>\n",
       "      <td>4.131381e-07</td>\n",
       "      <td>1.521628e-04</td>\n",
       "      <td>8.609202e-04</td>\n",
       "      <td>9.561596e-04</td>\n",
       "      <td>1.514738e-05</td>\n",
       "      <td>3.349561e-05</td>\n",
       "      <td>0.000010</td>\n",
       "      <td>0</td>\n",
       "      <td>0</td>\n",
       "      <td>0</td>\n",
       "      <td>0</td>\n",
       "      <td>1</td>\n",
       "      <td>0</td>\n",
       "      <td>0</td>\n",
       "      <td>0</td>\n",
       "      <td>0</td>\n",
       "    </tr>\n",
       "    <tr>\n",
       "      <th>5</th>\n",
       "      <td>8566</td>\n",
       "      <td>0.000006</td>\n",
       "      <td>0.000003</td>\n",
       "      <td>9.258783e-07</td>\n",
       "      <td>6.199149e-06</td>\n",
       "      <td>8.419573e-01</td>\n",
       "      <td>2.660695e-04</td>\n",
       "      <td>2.180498e-05</td>\n",
       "      <td>4.698280e-06</td>\n",
       "      <td>0.000002</td>\n",
       "      <td>0</td>\n",
       "      <td>0</td>\n",
       "      <td>0</td>\n",
       "      <td>0</td>\n",
       "      <td>0</td>\n",
       "      <td>1</td>\n",
       "      <td>0</td>\n",
       "      <td>0</td>\n",
       "      <td>0</td>\n",
       "    </tr>\n",
       "    <tr>\n",
       "      <th>6</th>\n",
       "      <td>523</td>\n",
       "      <td>0.001847</td>\n",
       "      <td>0.013288</td>\n",
       "      <td>7.787708e-05</td>\n",
       "      <td>3.182518e-04</td>\n",
       "      <td>3.309257e-04</td>\n",
       "      <td>1.256997e-02</td>\n",
       "      <td>9.461293e-04</td>\n",
       "      <td>2.561176e-03</td>\n",
       "      <td>0.000125</td>\n",
       "      <td>0</td>\n",
       "      <td>0</td>\n",
       "      <td>0</td>\n",
       "      <td>0</td>\n",
       "      <td>0</td>\n",
       "      <td>0</td>\n",
       "      <td>1</td>\n",
       "      <td>0</td>\n",
       "      <td>0</td>\n",
       "    </tr>\n",
       "    <tr>\n",
       "      <th>7</th>\n",
       "      <td>881</td>\n",
       "      <td>0.000756</td>\n",
       "      <td>0.000318</td>\n",
       "      <td>2.033654e-05</td>\n",
       "      <td>4.400202e-05</td>\n",
       "      <td>7.769692e-06</td>\n",
       "      <td>2.299094e-04</td>\n",
       "      <td>8.259637e-01</td>\n",
       "      <td>6.091613e-05</td>\n",
       "      <td>0.000001</td>\n",
       "      <td>0</td>\n",
       "      <td>0</td>\n",
       "      <td>0</td>\n",
       "      <td>0</td>\n",
       "      <td>0</td>\n",
       "      <td>0</td>\n",
       "      <td>0</td>\n",
       "      <td>1</td>\n",
       "      <td>0</td>\n",
       "    </tr>\n",
       "    <tr>\n",
       "      <th>8</th>\n",
       "      <td>0</td>\n",
       "      <td>0.002759</td>\n",
       "      <td>0.000053</td>\n",
       "      <td>4.552175e-05</td>\n",
       "      <td>1.431292e-04</td>\n",
       "      <td>2.398171e-03</td>\n",
       "      <td>6.411234e-02</td>\n",
       "      <td>6.440140e-04</td>\n",
       "      <td>1.002238e-01</td>\n",
       "      <td>0.000266</td>\n",
       "      <td>0</td>\n",
       "      <td>0</td>\n",
       "      <td>0</td>\n",
       "      <td>0</td>\n",
       "      <td>0</td>\n",
       "      <td>0</td>\n",
       "      <td>0</td>\n",
       "      <td>0</td>\n",
       "      <td>1</td>\n",
       "    </tr>\n",
       "  </tbody>\n",
       "</table>\n",
       "</div>"
      ],
      "text/plain": [
       "   input_id   layer_0   layer_1       layer_2       layer_3       layer_4  \\\n",
       "0      5812  0.000071  0.000011  3.062762e-09  8.679390e-08  8.759316e-08   \n",
       "1        11  0.074408  0.000060  1.334366e-03  1.132241e-03  7.897571e-03   \n",
       "2       314  0.008329  0.120552  3.716908e-05  5.832549e-04  4.499895e-05   \n",
       "3      1842  0.000199  0.000255  1.323957e-02  8.150191e-04  1.043985e-04   \n",
       "4      4771  0.000022  0.000019  4.131381e-07  1.521628e-04  8.609202e-04   \n",
       "5      8566  0.000006  0.000003  9.258783e-07  6.199149e-06  8.419573e-01   \n",
       "6       523  0.001847  0.013288  7.787708e-05  3.182518e-04  3.309257e-04   \n",
       "7       881  0.000756  0.000318  2.033654e-05  4.400202e-05  7.769692e-06   \n",
       "8         0  0.002759  0.000053  4.552175e-05  1.431292e-04  2.398171e-03   \n",
       "\n",
       "        layer_5       layer_6       layer_7   layer_8  pos_0  pos_1  pos_2  \\\n",
       "0  2.939493e-07  1.340631e-07  6.194054e-07  0.000020      1      0      0   \n",
       "1  1.280085e-01  5.436836e-03  1.541862e-01  0.000085      0      1      0   \n",
       "2  5.181681e-04  5.229215e-02  3.471816e-02  0.299114      0      0      1   \n",
       "3  3.853797e-05  3.477961e-04  5.235338e-05  0.000013      0      0      0   \n",
       "4  9.561596e-04  1.514738e-05  3.349561e-05  0.000010      0      0      0   \n",
       "5  2.660695e-04  2.180498e-05  4.698280e-06  0.000002      0      0      0   \n",
       "6  1.256997e-02  9.461293e-04  2.561176e-03  0.000125      0      0      0   \n",
       "7  2.299094e-04  8.259637e-01  6.091613e-05  0.000001      0      0      0   \n",
       "8  6.411234e-02  6.440140e-04  1.002238e-01  0.000266      0      0      0   \n",
       "\n",
       "   pos_3  pos_4  pos_5  pos_6  pos_7  pos_8  \n",
       "0      0      0      0      0      0      0  \n",
       "1      0      0      0      0      0      0  \n",
       "2      0      0      0      0      0      0  \n",
       "3      1      0      0      0      0      0  \n",
       "4      0      1      0      0      0      0  \n",
       "5      0      0      1      0      0      0  \n",
       "6      0      0      0      1      0      0  \n",
       "7      0      0      0      0      1      0  \n",
       "8      0      0      0      0      0      1  "
      ]
     },
     "execution_count": 242,
     "metadata": {},
     "output_type": "execute_result"
    }
   ],
   "source": [
    "text2"
   ]
  },
  {
   "cell_type": "code",
   "execution_count": 241,
   "metadata": {},
   "outputs": [],
   "source": [
    "t_cols = [\n",
    " 'layer_0',\n",
    " 'layer_1',\n",
    " 'layer_2',\n",
    " 'layer_3',\n",
    " 'layer_4',\n",
    " 'layer_5',\n",
    " 'layer_6',\n",
    " 'layer_7',\n",
    " 'layer_8']"
   ]
  },
  {
   "cell_type": "code",
   "execution_count": 247,
   "metadata": {},
   "outputs": [
    {
     "name": "stdout",
     "output_type": "stream",
     "text": [
      "3\n",
      "[0.18008246 0.18952541 0.18950535 0.         0.2032085  0.1370206\n",
      " 0.19515668 0.11505376 0.20497997]\n",
      "1\n",
      "[1.13419497 0.         0.11398414 0.86339541 0.02379302 1.02349289\n",
      " 0.012629   0.94785077 0.01524064]\n",
      "5\n",
      "[0.16579342 1.18276395 0.05131798 0.4012167  0.06189306 0.\n",
      " 0.12551504 0.20397536 1.1887755 ]\n",
      "7\n",
      "[0.06664515 0.07642766 1.20982698 0.64283371 0.08795117 0.02194526\n",
      " 0.08023666 0.         0.0895565 ]\n",
      "7\n",
      "[0.0640529  0.07433034 0.07426868 0.02622293 0.08908882 0.0297869\n",
      " 0.07990543 0.         0.08967163]\n",
      "3\n",
      "[0.17339499 0.18376721 0.18389744 0.         1.32442293 0.13356851\n",
      " 0.18949934 0.10939375 0.19922522]\n",
      "7\n",
      "[0.07537539 0.18245814 0.06414645 0.16398848 0.07161221 0.11068359\n",
      " 0.06441529 0.         0.073338  ]\n",
      "3\n",
      "[0.14976057 0.15155458 0.15038992 0.         0.1623591  0.09809182\n",
      " 1.28734959 0.07459406 0.16405068]\n"
     ]
    }
   ],
   "source": [
    "rel = []\n",
    "testing = []\n",
    "for i in range(8):\n",
    "    term = f'pos_{i}'\n",
    "    relt = text2[t_cols+[term]].corr()[term].values[:-1]\n",
    "    dove = [1 + i for i in relt] # asserts to one direction\n",
    "    rel.append(dove)\n",
    "    print(np.argmin(dove)) # gets the index of the min correlated \n",
    "    print((dove - np.min(dove))) # normalise / standardise \n",
    "    ct = dove - np.min(dove)\n",
    "    testing.append(ct[i])"
   ]
  },
  {
   "cell_type": "code",
   "execution_count": 248,
   "metadata": {},
   "outputs": [
    {
     "data": {
      "text/plain": [
       "[0.18008246411162887,\n",
       " 0.0,\n",
       " 0.05131797851911002,\n",
       " 0.6428337149444726,\n",
       " 0.08908881767349763,\n",
       " 0.13356851258712876,\n",
       " 0.06441529355334963,\n",
       " 0.07459405813466546]"
      ]
     },
     "execution_count": 248,
     "metadata": {},
     "output_type": "execute_result"
    }
   ],
   "source": [
    "testing"
   ]
  },
  {
   "cell_type": "markdown",
   "metadata": {},
   "source": [
    "### text 3"
   ]
  },
  {
   "cell_type": "code",
   "execution_count": 254,
   "metadata": {},
   "outputs": [],
   "source": [
    "text3 = idx_layers(inputs.input_ids[0], outputs.logits)"
   ]
  },
  {
   "cell_type": "code",
   "execution_count": 255,
   "metadata": {},
   "outputs": [
    {
     "data": {
      "text/html": [
       "<div>\n",
       "<style scoped>\n",
       "    .dataframe tbody tr th:only-of-type {\n",
       "        vertical-align: middle;\n",
       "    }\n",
       "\n",
       "    .dataframe tbody tr th {\n",
       "        vertical-align: top;\n",
       "    }\n",
       "\n",
       "    .dataframe thead th {\n",
       "        text-align: right;\n",
       "    }\n",
       "</style>\n",
       "<table border=\"1\" class=\"dataframe\">\n",
       "  <thead>\n",
       "    <tr style=\"text-align: right;\">\n",
       "      <th></th>\n",
       "      <th>input_id</th>\n",
       "      <th>layer_0</th>\n",
       "      <th>layer_1</th>\n",
       "      <th>layer_2</th>\n",
       "      <th>layer_3</th>\n",
       "      <th>layer_4</th>\n",
       "      <th>layer_5</th>\n",
       "      <th>layer_6</th>\n",
       "      <th>layer_7</th>\n",
       "      <th>pos_0</th>\n",
       "      <th>pos_1</th>\n",
       "      <th>pos_2</th>\n",
       "      <th>pos_3</th>\n",
       "      <th>pos_4</th>\n",
       "      <th>pos_5</th>\n",
       "      <th>pos_6</th>\n",
       "      <th>pos_7</th>\n",
       "    </tr>\n",
       "  </thead>\n",
       "  <tbody>\n",
       "    <tr>\n",
       "      <th>0</th>\n",
       "      <td>40</td>\n",
       "      <td>0.002661</td>\n",
       "      <td>6.063355e-07</td>\n",
       "      <td>6.423055e-08</td>\n",
       "      <td>0.000006</td>\n",
       "      <td>0.000011</td>\n",
       "      <td>4.170237e-07</td>\n",
       "      <td>2.639108e-07</td>\n",
       "      <td>0.000006</td>\n",
       "      <td>1</td>\n",
       "      <td>0</td>\n",
       "      <td>0</td>\n",
       "      <td>0</td>\n",
       "      <td>0</td>\n",
       "      <td>0</td>\n",
       "      <td>0</td>\n",
       "      <td>0</td>\n",
       "    </tr>\n",
       "    <tr>\n",
       "      <th>1</th>\n",
       "      <td>716</td>\n",
       "      <td>0.001746</td>\n",
       "      <td>3.026406e-04</td>\n",
       "      <td>1.029701e-04</td>\n",
       "      <td>0.000026</td>\n",
       "      <td>0.000560</td>\n",
       "      <td>2.702318e-04</td>\n",
       "      <td>8.604529e-05</td>\n",
       "      <td>0.000038</td>\n",
       "      <td>0</td>\n",
       "      <td>1</td>\n",
       "      <td>0</td>\n",
       "      <td>0</td>\n",
       "      <td>0</td>\n",
       "      <td>0</td>\n",
       "      <td>0</td>\n",
       "      <td>0</td>\n",
       "    </tr>\n",
       "    <tr>\n",
       "      <th>2</th>\n",
       "      <td>407</td>\n",
       "      <td>0.002509</td>\n",
       "      <td>1.058596e-01</td>\n",
       "      <td>4.131822e-04</td>\n",
       "      <td>0.000176</td>\n",
       "      <td>0.000145</td>\n",
       "      <td>1.442704e-05</td>\n",
       "      <td>8.333408e-04</td>\n",
       "      <td>0.000075</td>\n",
       "      <td>0</td>\n",
       "      <td>0</td>\n",
       "      <td>1</td>\n",
       "      <td>0</td>\n",
       "      <td>0</td>\n",
       "      <td>0</td>\n",
       "      <td>0</td>\n",
       "      <td>0</td>\n",
       "    </tr>\n",
       "    <tr>\n",
       "      <th>3</th>\n",
       "      <td>1654</td>\n",
       "      <td>0.000338</td>\n",
       "      <td>2.475403e-02</td>\n",
       "      <td>9.361645e-02</td>\n",
       "      <td>0.000081</td>\n",
       "      <td>0.000003</td>\n",
       "      <td>2.256260e-05</td>\n",
       "      <td>7.844536e-04</td>\n",
       "      <td>0.000004</td>\n",
       "      <td>0</td>\n",
       "      <td>0</td>\n",
       "      <td>0</td>\n",
       "      <td>1</td>\n",
       "      <td>0</td>\n",
       "      <td>0</td>\n",
       "      <td>0</td>\n",
       "      <td>0</td>\n",
       "    </tr>\n",
       "    <tr>\n",
       "      <th>4</th>\n",
       "      <td>644</td>\n",
       "      <td>0.000550</td>\n",
       "      <td>3.524971e-04</td>\n",
       "      <td>7.186912e-04</td>\n",
       "      <td>0.139963</td>\n",
       "      <td>0.000465</td>\n",
       "      <td>8.011254e-06</td>\n",
       "      <td>7.344699e-05</td>\n",
       "      <td>0.000308</td>\n",
       "      <td>0</td>\n",
       "      <td>0</td>\n",
       "      <td>0</td>\n",
       "      <td>0</td>\n",
       "      <td>1</td>\n",
       "      <td>0</td>\n",
       "      <td>0</td>\n",
       "      <td>0</td>\n",
       "    </tr>\n",
       "    <tr>\n",
       "      <th>5</th>\n",
       "      <td>345</td>\n",
       "      <td>0.002529</td>\n",
       "      <td>2.790950e-04</td>\n",
       "      <td>2.946961e-04</td>\n",
       "      <td>0.008093</td>\n",
       "      <td>0.068503</td>\n",
       "      <td>5.296310e-05</td>\n",
       "      <td>3.192253e-05</td>\n",
       "      <td>0.001501</td>\n",
       "      <td>0</td>\n",
       "      <td>0</td>\n",
       "      <td>0</td>\n",
       "      <td>0</td>\n",
       "      <td>0</td>\n",
       "      <td>1</td>\n",
       "      <td>0</td>\n",
       "      <td>0</td>\n",
       "    </tr>\n",
       "    <tr>\n",
       "      <th>6</th>\n",
       "      <td>389</td>\n",
       "      <td>0.006713</td>\n",
       "      <td>9.016027e-06</td>\n",
       "      <td>6.146159e-06</td>\n",
       "      <td>0.000079</td>\n",
       "      <td>0.001563</td>\n",
       "      <td>2.194551e-01</td>\n",
       "      <td>4.048770e-05</td>\n",
       "      <td>0.000317</td>\n",
       "      <td>0</td>\n",
       "      <td>0</td>\n",
       "      <td>0</td>\n",
       "      <td>0</td>\n",
       "      <td>0</td>\n",
       "      <td>0</td>\n",
       "      <td>1</td>\n",
       "      <td>0</td>\n",
       "    </tr>\n",
       "    <tr>\n",
       "      <th>7</th>\n",
       "      <td>2282</td>\n",
       "      <td>0.000119</td>\n",
       "      <td>1.543669e-03</td>\n",
       "      <td>3.078910e-02</td>\n",
       "      <td>0.000034</td>\n",
       "      <td>0.000009</td>\n",
       "      <td>4.123323e-05</td>\n",
       "      <td>9.786332e-02</td>\n",
       "      <td>0.000047</td>\n",
       "      <td>0</td>\n",
       "      <td>0</td>\n",
       "      <td>0</td>\n",
       "      <td>0</td>\n",
       "      <td>0</td>\n",
       "      <td>0</td>\n",
       "      <td>0</td>\n",
       "      <td>1</td>\n",
       "    </tr>\n",
       "  </tbody>\n",
       "</table>\n",
       "</div>"
      ],
      "text/plain": [
       "   input_id   layer_0       layer_1       layer_2   layer_3   layer_4  \\\n",
       "0        40  0.002661  6.063355e-07  6.423055e-08  0.000006  0.000011   \n",
       "1       716  0.001746  3.026406e-04  1.029701e-04  0.000026  0.000560   \n",
       "2       407  0.002509  1.058596e-01  4.131822e-04  0.000176  0.000145   \n",
       "3      1654  0.000338  2.475403e-02  9.361645e-02  0.000081  0.000003   \n",
       "4       644  0.000550  3.524971e-04  7.186912e-04  0.139963  0.000465   \n",
       "5       345  0.002529  2.790950e-04  2.946961e-04  0.008093  0.068503   \n",
       "6       389  0.006713  9.016027e-06  6.146159e-06  0.000079  0.001563   \n",
       "7      2282  0.000119  1.543669e-03  3.078910e-02  0.000034  0.000009   \n",
       "\n",
       "        layer_5       layer_6   layer_7  pos_0  pos_1  pos_2  pos_3  pos_4  \\\n",
       "0  4.170237e-07  2.639108e-07  0.000006      1      0      0      0      0   \n",
       "1  2.702318e-04  8.604529e-05  0.000038      0      1      0      0      0   \n",
       "2  1.442704e-05  8.333408e-04  0.000075      0      0      1      0      0   \n",
       "3  2.256260e-05  7.844536e-04  0.000004      0      0      0      1      0   \n",
       "4  8.011254e-06  7.344699e-05  0.000308      0      0      0      0      1   \n",
       "5  5.296310e-05  3.192253e-05  0.001501      0      0      0      0      0   \n",
       "6  2.194551e-01  4.048770e-05  0.000317      0      0      0      0      0   \n",
       "7  4.123323e-05  9.786332e-02  0.000047      0      0      0      0      0   \n",
       "\n",
       "   pos_5  pos_6  pos_7  \n",
       "0      0      0      0  \n",
       "1      0      0      0  \n",
       "2      0      0      0  \n",
       "3      0      0      0  \n",
       "4      0      0      0  \n",
       "5      1      0      0  \n",
       "6      0      1      0  \n",
       "7      0      0      1  "
      ]
     },
     "execution_count": 255,
     "metadata": {},
     "output_type": "execute_result"
    }
   ],
   "source": [
    "text3"
   ]
  },
  {
   "cell_type": "code",
   "execution_count": 260,
   "metadata": {},
   "outputs": [
    {
     "name": "stdout",
     "output_type": "stream",
     "text": [
      "7\n",
      "[0.32220221 0.04262744 0.03266816 0.07153088 0.07484477 0.08092448\n",
      " 0.07814297 0.        ]\n",
      "7\n",
      "[0.1219353  0.01988662 0.00788436 0.04565956 0.05802381 0.05629492\n",
      " 0.05311235 0.        ]\n",
      "2\n",
      "[0.25568243 1.15951931 0.         0.03523701 0.03939199 0.04330615\n",
      " 0.05020627 0.01722835]\n",
      "0\n",
      "[0.         0.43282826 1.29118129 0.19236495 0.19491855 0.20125984\n",
      " 0.20754516 0.1185733 ]\n",
      "0\n",
      "[0.         0.12639617 0.12133676 1.30237946 0.16238538 0.16089476\n",
      " 0.15893061 0.32067811]\n",
      "2\n",
      "[0.26081376 0.00941424 0.         0.1017856  1.18759874 0.04494757\n",
      " 0.04226304 1.15557393]\n",
      "2\n",
      "[1.06153272 0.00997705 0.         0.03938444 0.06812869 1.19134159\n",
      " 0.04587185 0.21499322]\n",
      "0\n",
      "[0.         0.22151732 0.56909586 0.23382453 0.23687449 0.24319709\n",
      " 1.38609417 0.19511951]\n"
     ]
    }
   ],
   "source": [
    "cols = [i for i in text3.columns if 'layer' in str(i)]\n",
    "rel = []\n",
    "testing = []\n",
    "for i in range(8):\n",
    "    term = f'pos_{i}'\n",
    "    relt = text3[cols+[term]].corr()[term].values[:-1]\n",
    "    dove = [1 + i for i in relt] # asserts to one direction\n",
    "    rel.append(dove)\n",
    "    print(np.argmin(dove)) # gets the index of the min correlated \n",
    "    print((dove - np.min(dove))) # normalise / standardise \n",
    "    ct = dove - np.min(dove)\n",
    "    testing.append(ct[i])"
   ]
  },
  {
   "cell_type": "code",
   "execution_count": 261,
   "metadata": {},
   "outputs": [
    {
     "data": {
      "text/plain": [
       "[0.3222022062647363,\n",
       " 0.019886624951979126,\n",
       " 0.0,\n",
       " 0.1923649491478262,\n",
       " 0.16238537787156082,\n",
       " 0.04494757481957479,\n",
       " 0.04587184879143125,\n",
       " 0.19511950529074373]"
      ]
     },
     "execution_count": 261,
     "metadata": {},
     "output_type": "execute_result"
    }
   ],
   "source": [
    "testing"
   ]
  },
  {
   "cell_type": "code",
   "execution_count": 267,
   "metadata": {},
   "outputs": [],
   "source": [
    "t_mat = text3[cols].values"
   ]
  },
  {
   "cell_type": "code",
   "execution_count": 274,
   "metadata": {},
   "outputs": [
    {
     "data": {
      "text/plain": [
       "[0.00033562888189386797,\n",
       " 0.00039160656297099194,\n",
       " 0.01375314479548706,\n",
       " 0.014950348429721316,\n",
       " 0.01780478736270652,\n",
       " 0.010160676942177815,\n",
       " 0.028522721655861005,\n",
       " 0.016305899860867612]"
      ]
     },
     "execution_count": 274,
     "metadata": {},
     "output_type": "execute_result"
    }
   ],
   "source": [
    "[np.mean(i) for i in t_mat] # average logits for token 1 by the logits for other tokens in the text"
   ]
  },
  {
   "cell_type": "code",
   "execution_count": 277,
   "metadata": {},
   "outputs": [
    {
     "data": {
      "text/plain": [
       "[1.1445471724084536e-05,\n",
       " 0.04139429997343945,\n",
       " 0.05735431251297188,\n",
       " 0.0016737773724647316,\n",
       " 0.00022992320202459067,\n",
       " 0.0935853628791329,\n",
       " 0.003562724509619228,\n",
       " 0.09193350504661642,\n",
       " 0.01896057293278217]"
      ]
     },
     "execution_count": 277,
     "metadata": {},
     "output_type": "execute_result"
    }
   ],
   "source": [
    "[np.mean(i) for i in text2[t_cols].values]"
   ]
  },
  {
   "cell_type": "markdown",
   "metadata": {},
   "source": [
    "### Using MLP"
   ]
  },
  {
   "cell_type": "code",
   "execution_count": 56,
   "metadata": {},
   "outputs": [],
   "source": [
    "mlp_layers = []\n",
    "for i in range(11):\n",
    "    mlp_layers.append(model.transformer.h[i].mlp.c_proj.weight)"
   ]
  },
  {
   "cell_type": "code",
   "execution_count": 92,
   "metadata": {},
   "outputs": [
    {
     "data": {
      "text/plain": [
       "GPT2Model(\n",
       "  (wte): Embedding(50257, 768)\n",
       "  (wpe): Embedding(1024, 768)\n",
       "  (drop): Dropout(p=0.1, inplace=False)\n",
       "  (h): ModuleList(\n",
       "    (0-11): 12 x GPT2Block(\n",
       "      (ln_1): LayerNorm((768,), eps=1e-05, elementwise_affine=True)\n",
       "      (attn): GPT2Attention(\n",
       "        (c_attn): Conv1D()\n",
       "        (c_proj): Conv1D()\n",
       "        (attn_dropout): Dropout(p=0.1, inplace=False)\n",
       "        (resid_dropout): Dropout(p=0.1, inplace=False)\n",
       "      )\n",
       "      (ln_2): LayerNorm((768,), eps=1e-05, elementwise_affine=True)\n",
       "      (mlp): GPT2MLP(\n",
       "        (c_fc): Conv1D()\n",
       "        (c_proj): Conv1D()\n",
       "        (act): NewGELUActivation()\n",
       "        (dropout): Dropout(p=0.1, inplace=False)\n",
       "      )\n",
       "    )\n",
       "  )\n",
       "  (ln_f): LayerNorm((768,), eps=1e-05, elementwise_affine=True)\n",
       ")"
      ]
     },
     "execution_count": 92,
     "metadata": {},
     "output_type": "execute_result"
    }
   ],
   "source": [
    "model.transformer"
   ]
  },
  {
   "cell_type": "code",
   "execution_count": 83,
   "metadata": {},
   "outputs": [
    {
     "data": {
      "text/plain": [
       "torch.Size([1024, 768])"
      ]
     },
     "execution_count": 83,
     "metadata": {},
     "output_type": "execute_result"
    }
   ],
   "source": [
    "model.transformer.wpe.weight.shape"
   ]
  },
  {
   "cell_type": "code",
   "execution_count": 91,
   "metadata": {},
   "outputs": [
    {
     "data": {
      "text/plain": [
       "torch.Size([50257, 768])"
      ]
     },
     "execution_count": 91,
     "metadata": {},
     "output_type": "execute_result"
    }
   ],
   "source": [
    "model.transformer.wte.weight.shape"
   ]
  },
  {
   "cell_type": "code",
   "execution_count": 75,
   "metadata": {},
   "outputs": [
    {
     "data": {
      "text/plain": [
       "torch.Size([3072, 768])"
      ]
     },
     "execution_count": 75,
     "metadata": {},
     "output_type": "execute_result"
    }
   ],
   "source": [
    "mlp_layers[0].shape"
   ]
  },
  {
   "cell_type": "code",
   "execution_count": 78,
   "metadata": {},
   "outputs": [
    {
     "data": {
      "text/plain": [
       "torch.Size([1, 6, 50257])"
      ]
     },
     "execution_count": 78,
     "metadata": {},
     "output_type": "execute_result"
    }
   ],
   "source": [
    "outputs.logits.shape"
   ]
  },
  {
   "cell_type": "code",
   "execution_count": null,
   "metadata": {},
   "outputs": [],
   "source": []
  }
 ],
 "metadata": {
  "kernelspec": {
   "display_name": "march",
   "language": "python",
   "name": "python3"
  },
  "language_info": {
   "codemirror_mode": {
    "name": "ipython",
    "version": 3
   },
   "file_extension": ".py",
   "mimetype": "text/x-python",
   "name": "python",
   "nbconvert_exporter": "python",
   "pygments_lexer": "ipython3",
   "version": "3.12.2"
  }
 },
 "nbformat": 4,
 "nbformat_minor": 2
}
